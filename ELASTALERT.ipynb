{
 "cells": [
  {
   "cell_type": "markdown",
   "metadata": {},
   "source": [
    "# First Create a Elastic Search Connection"
   ]
  },
  {
   "cell_type": "code",
   "execution_count": 11,
   "metadata": {},
   "outputs": [
    {
     "data": {
      "text/plain": [
       "{'name': 'esnodebal',\n",
       " 'cluster_name': 'nyxdata-cluster',\n",
       " 'cluster_uuid': 'AwCOybaZTfGwoHolOXyFbg',\n",
       " 'version': {'number': '6.5.4',\n",
       "  'build_flavor': 'default',\n",
       "  'build_type': 'tar',\n",
       "  'build_hash': 'd2ef93d',\n",
       "  'build_date': '2018-12-17T21:17:40.758843Z',\n",
       "  'build_snapshot': False,\n",
       "  'lucene_version': '7.5.0',\n",
       "  'minimum_wire_compatibility_version': '5.6.0',\n",
       "  'minimum_index_compatibility_version': '5.0.0'},\n",
       " 'tagline': 'You Know, for Search'}"
      ]
     },
     "execution_count": 11,
     "metadata": {},
     "output_type": "execute_result"
    }
   ],
   "source": [
    "import re\n",
    "import os\n",
    "import sys\n",
    "import json\n",
    "import time\n",
    "import json\n",
    "import yaml\n",
    "import math\n",
    "import pytz\n",
    "import locale\n",
    "import logging\n",
    "import tzlocal\n",
    "import calendar\n",
    "import datetime\n",
    "import requests\n",
    "import dateutil.parser\n",
    "\n",
    "from os import listdir\n",
    "from os.path import isfile, join\n",
    "\n",
    "from datetime import datetime\n",
    "from datetime import timedelta\n",
    "from elasticsearch import Elasticsearch as ES, RequestsHttpConnection as RC\n",
    "\n",
    "es_host=\"esnodebal\"\n",
    "es_port=9200\n",
    "\n",
    "host_params=\"http://\"+es_host+\":\"+str(es_port)\n",
    "es = ES(hosts=[host_params])\n",
    "es.info()"
   ]
  },
  {
   "cell_type": "markdown",
   "metadata": {},
   "source": [
    "# The reads all the alert rules from the folder"
   ]
  },
  {
   "cell_type": "code",
   "execution_count": 13,
   "metadata": {},
   "outputs": [
    {
     "name": "stdout",
     "output_type": "stream",
     "text": [
      "CheckOptiboard.yaml => pulsestatus* => generationtime\n",
      "CheckDisksInfra.yaml => nyx_infra_disk* => @timestamp\n",
      "CheckLogin.yml => nyx_apicalls* => @timestamp\n",
      "CheckAMQ.yml => nyx_module_info* => @timestamp\n",
      "CheckDisksOptiboards.yaml => pulsestatus* => generationtime\n",
      "CheckModules.yaml => nyx_module_info* => @timestamp\n",
      "CheckMaximo.yaml => nyx_log* => @timestamp\n",
      "CheckLogstash.yaml => logstash-* => @timestamp\n"
     ]
    }
   ],
   "source": [
    "\n",
    "# PATH TO MY ELASTALERT\n",
    "elastpath=\"../../elastalert\"\n",
    "\n",
    "alerts = [f for f in listdir(elastpath) if isfile(join(elastpath, f))]\n",
    "for alert in alerts:\n",
    "    with open(elastpath+\"/\"+alert, 'r') as stream:\n",
    "        try:\n",
    "            \n",
    "            alertobj=yaml.safe_load(stream)\n",
    "            index=alertobj[\"index\"]\n",
    "            timestamp_field=\"@timestamp\"\n",
    "            if \"timestamp_field\" in alertobj:\n",
    "                timestamp_field=alertobj[\"timestamp_field\"]\n",
    "            print(\"%s => %s => %s\" %(alert,index,timestamp_field))\n",
    "            id=\"elastspace:index-pattern:\"+index.replace(\"*\",\"star\").lower()\n",
    "    \n",
    "            k=alertobj\n",
    "            timeframe=\"(Timeframe \"+\" \".join([str(k[\"timeframe\"][key])+\" \"+key for key in k[\"timeframe\"]])+\")\"          \n",
    "    \n",
    "# USE elastspace space for elast alerts\n",
    "            newindpat={\n",
    "              'index-pattern': {\n",
    "                'title': index,\n",
    "                'timeFieldName': timestamp_field,\n",
    "                'fields': '[]'\n",
    "              },\n",
    "              'type': 'index-pattern',\n",
    "              'namespace': 'elastspace'\n",
    "            }\n",
    "            res=es.index(index=\".kibana\",id=id,body=newindpat,doc_type=\"doc\")\n",
    "            visid=\"elastspace:visualization:\"+alert.replace(\".\",\"dot\").lower()\n",
    "\n",
    "# CREATE TIMELION VISUALIZATION\n",
    "\n",
    "            timelion=\".es(index='elastalert',q='rule_name:\"+alertobj[\"name\"]+\"').yaxis(2).bars().label('Alerts sent'),\"\n",
    "            timelion+=\".es(index=\\'\"+index+\"\\',timefield=\\'\"+timestamp_field+\"\\'\"\n",
    "        \n",
    "            if \"filter\" in alertobj and \"query_string\" in alertobj[\"filter\"][0] and \"query\" in alertobj[\"filter\"][0][\"query_string\"]:\n",
    "                timelion+=\",q=\\'\"+alertobj[\"filter\"][0][\"query_string\"][\"query\"]+\"\\'\"\n",
    "            \n",
    "        \n",
    "            timelion+=\")\"\n",
    "            \n",
    "            if \"threshold\" in alertobj:\n",
    "                timelion+=\",.value(\"+str(alertobj[\"threshold\"])+\").label(\\'Threshold \"+timeframe+\"\\')\"\n",
    "\n",
    "            if \"num_events\" in alertobj:\n",
    "                timelion+=\",.value(\"+str(alertobj[\"num_events\"])+\").label(\\'Num. Events \"+timeframe+\"\\')\"\n",
    "                \n",
    "            newvis={\n",
    "              'visualization': {\n",
    "                'title': alertobj[\"name\"]+\" (\"+alertobj[\"type\"]+\")\",\n",
    "                'visState': '{\"type\":\"timelion\",\"title\":\\\"'+alertobj[\"name\"]+'\\\",\"params\":{\"expression\":\\\"'+timelion+'\\\",\"interval\":\"auto\"}}',\n",
    "                'uiStateJSON': '{}',\n",
    "                'description': '',\n",
    "                'version': 1,\n",
    "                'kibanaSavedObjectMeta': {\n",
    "                  'searchSourceJSON': '{}'\n",
    "                }\n",
    "              },\n",
    "              'type': 'visualization',\n",
    "              'namespace': 'elastspace'\n",
    "            }\n",
    "# ADDING THE VISUALIZATION TO THE SPACE            \n",
    "            res=es.index(index=\".kibana\",id=visid,body=newvis,doc_type=\"doc\")\n",
    "            \n",
    "        except yaml.YAMLError as exc:\n",
    "            print(exc)\n"
   ]
  },
  {
   "cell_type": "code",
   "execution_count": null,
   "metadata": {},
   "outputs": [],
   "source": []
  }
 ],
 "metadata": {
  "kernelspec": {
   "display_name": "Python 3",
   "language": "python",
   "name": "python3"
  },
  "language_info": {
   "codemirror_mode": {
    "name": "ipython",
    "version": 3
   },
   "file_extension": ".py",
   "mimetype": "text/x-python",
   "name": "python",
   "nbconvert_exporter": "python",
   "pygments_lexer": "ipython3",
   "version": "3.7.3"
  }
 },
 "nbformat": 4,
 "nbformat_minor": 2
}
